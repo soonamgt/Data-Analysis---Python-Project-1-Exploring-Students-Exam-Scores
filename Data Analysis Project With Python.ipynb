{
 "cells": [
  {
   "cell_type": "markdown",
   "id": "d6114b40",
   "metadata": {},
   "source": [
    "# Dataset name- Students Exam Scores- Extended Dataset\n"
   ]
  },
  {
   "cell_type": "code",
   "execution_count": 1,
   "id": "8f91fdcd",
   "metadata": {},
   "outputs": [],
   "source": [
    "#before starting project we need to import important libraries for data analysis [pandas,numpy,seaborn,matplotlib]"
   ]
  },
  {
   "cell_type": "code",
   "execution_count": 2,
   "id": "f779109e",
   "metadata": {},
   "outputs": [],
   "source": [
    "import numpy as np"
   ]
  },
  {
   "cell_type": "code",
   "execution_count": 3,
   "id": "acbfbc21",
   "metadata": {},
   "outputs": [],
   "source": [
    "import pandas as pd"
   ]
  },
  {
   "cell_type": "code",
   "execution_count": 4,
   "id": "bdcd370f",
   "metadata": {},
   "outputs": [],
   "source": [
    "import matplotlib.pyplot as plt"
   ]
  },
  {
   "cell_type": "code",
   "execution_count": 5,
   "id": "fc97b283",
   "metadata": {},
   "outputs": [],
   "source": [
    "import seaborn as sns"
   ]
  },
  {
   "cell_type": "code",
   "execution_count": 6,
   "id": "4c9a0114",
   "metadata": {},
   "outputs": [],
   "source": [
    "#now we will import our dataset with pandas and after that we will check some basics informations by using some functions() \n",
    "#as it is very important to understand data first before working on it!"
   ]
  },
  {
   "cell_type": "code",
   "execution_count": 7,
   "id": "590defe9",
   "metadata": {},
   "outputs": [],
   "source": [
    "df= pd.read_csv(\"studentsexamscoreextendeddata.csv\")"
   ]
  },
  {
   "cell_type": "code",
   "execution_count": 8,
   "id": "28ea318d",
   "metadata": {},
   "outputs": [
    {
     "data": {
      "text/html": [
       "<div>\n",
       "<style scoped>\n",
       "    .dataframe tbody tr th:only-of-type {\n",
       "        vertical-align: middle;\n",
       "    }\n",
       "\n",
       "    .dataframe tbody tr th {\n",
       "        vertical-align: top;\n",
       "    }\n",
       "\n",
       "    .dataframe thead th {\n",
       "        text-align: right;\n",
       "    }\n",
       "</style>\n",
       "<table border=\"1\" class=\"dataframe\">\n",
       "  <thead>\n",
       "    <tr style=\"text-align: right;\">\n",
       "      <th></th>\n",
       "      <th>c</th>\n",
       "      <th>Gender</th>\n",
       "      <th>EthnicGroup</th>\n",
       "      <th>ParentEduc</th>\n",
       "      <th>LunchType</th>\n",
       "      <th>TestPrep</th>\n",
       "      <th>ParentMaritalStatus</th>\n",
       "      <th>PracticeSport</th>\n",
       "      <th>IsFirstChild</th>\n",
       "      <th>NrSiblings</th>\n",
       "      <th>TransportMeans</th>\n",
       "      <th>WklyStudyHours</th>\n",
       "      <th>MathScore</th>\n",
       "      <th>ReadingScore</th>\n",
       "      <th>WritingScore</th>\n",
       "    </tr>\n",
       "  </thead>\n",
       "  <tbody>\n",
       "    <tr>\n",
       "      <th>0</th>\n",
       "      <td>0</td>\n",
       "      <td>female</td>\n",
       "      <td>NaN</td>\n",
       "      <td>bachelor's degree</td>\n",
       "      <td>standard</td>\n",
       "      <td>none</td>\n",
       "      <td>married</td>\n",
       "      <td>regularly</td>\n",
       "      <td>yes</td>\n",
       "      <td>3.0</td>\n",
       "      <td>school_bus</td>\n",
       "      <td>&lt; 5</td>\n",
       "      <td>71</td>\n",
       "      <td>71</td>\n",
       "      <td>74</td>\n",
       "    </tr>\n",
       "    <tr>\n",
       "      <th>1</th>\n",
       "      <td>1</td>\n",
       "      <td>female</td>\n",
       "      <td>group C</td>\n",
       "      <td>some college</td>\n",
       "      <td>standard</td>\n",
       "      <td>NaN</td>\n",
       "      <td>married</td>\n",
       "      <td>sometimes</td>\n",
       "      <td>yes</td>\n",
       "      <td>0.0</td>\n",
       "      <td>NaN</td>\n",
       "      <td>10-May</td>\n",
       "      <td>69</td>\n",
       "      <td>90</td>\n",
       "      <td>88</td>\n",
       "    </tr>\n",
       "    <tr>\n",
       "      <th>2</th>\n",
       "      <td>2</td>\n",
       "      <td>female</td>\n",
       "      <td>group B</td>\n",
       "      <td>master's degree</td>\n",
       "      <td>standard</td>\n",
       "      <td>none</td>\n",
       "      <td>single</td>\n",
       "      <td>sometimes</td>\n",
       "      <td>yes</td>\n",
       "      <td>4.0</td>\n",
       "      <td>school_bus</td>\n",
       "      <td>&lt; 5</td>\n",
       "      <td>87</td>\n",
       "      <td>93</td>\n",
       "      <td>91</td>\n",
       "    </tr>\n",
       "    <tr>\n",
       "      <th>3</th>\n",
       "      <td>3</td>\n",
       "      <td>male</td>\n",
       "      <td>group A</td>\n",
       "      <td>associate's degree</td>\n",
       "      <td>free/reduced</td>\n",
       "      <td>none</td>\n",
       "      <td>married</td>\n",
       "      <td>never</td>\n",
       "      <td>no</td>\n",
       "      <td>1.0</td>\n",
       "      <td>NaN</td>\n",
       "      <td>10-May</td>\n",
       "      <td>45</td>\n",
       "      <td>56</td>\n",
       "      <td>42</td>\n",
       "    </tr>\n",
       "    <tr>\n",
       "      <th>4</th>\n",
       "      <td>4</td>\n",
       "      <td>male</td>\n",
       "      <td>group C</td>\n",
       "      <td>some college</td>\n",
       "      <td>standard</td>\n",
       "      <td>none</td>\n",
       "      <td>married</td>\n",
       "      <td>sometimes</td>\n",
       "      <td>yes</td>\n",
       "      <td>0.0</td>\n",
       "      <td>school_bus</td>\n",
       "      <td>10-May</td>\n",
       "      <td>76</td>\n",
       "      <td>78</td>\n",
       "      <td>75</td>\n",
       "    </tr>\n",
       "  </tbody>\n",
       "</table>\n",
       "</div>"
      ],
      "text/plain": [
       "   c  Gender EthnicGroup          ParentEduc     LunchType TestPrep  \\\n",
       "0  0  female         NaN   bachelor's degree      standard     none   \n",
       "1  1  female     group C        some college      standard      NaN   \n",
       "2  2  female     group B     master's degree      standard     none   \n",
       "3  3    male     group A  associate's degree  free/reduced     none   \n",
       "4  4    male     group C        some college      standard     none   \n",
       "\n",
       "  ParentMaritalStatus PracticeSport IsFirstChild  NrSiblings TransportMeans  \\\n",
       "0             married     regularly          yes         3.0     school_bus   \n",
       "1             married     sometimes          yes         0.0            NaN   \n",
       "2              single     sometimes          yes         4.0     school_bus   \n",
       "3             married         never           no         1.0            NaN   \n",
       "4             married     sometimes          yes         0.0     school_bus   \n",
       "\n",
       "  WklyStudyHours  MathScore  ReadingScore  WritingScore  \n",
       "0            < 5         71            71            74  \n",
       "1         10-May         69            90            88  \n",
       "2            < 5         87            93            91  \n",
       "3         10-May         45            56            42  \n",
       "4         10-May         76            78            75  "
      ]
     },
     "execution_count": 8,
     "metadata": {},
     "output_type": "execute_result"
    }
   ],
   "source": [
    "df.head()  #by default it shows 5 rows."
   ]
  },
  {
   "cell_type": "code",
   "execution_count": 9,
   "id": "019059fb",
   "metadata": {},
   "outputs": [
    {
     "data": {
      "text/html": [
       "<div>\n",
       "<style scoped>\n",
       "    .dataframe tbody tr th:only-of-type {\n",
       "        vertical-align: middle;\n",
       "    }\n",
       "\n",
       "    .dataframe tbody tr th {\n",
       "        vertical-align: top;\n",
       "    }\n",
       "\n",
       "    .dataframe thead th {\n",
       "        text-align: right;\n",
       "    }\n",
       "</style>\n",
       "<table border=\"1\" class=\"dataframe\">\n",
       "  <thead>\n",
       "    <tr style=\"text-align: right;\">\n",
       "      <th></th>\n",
       "      <th>c</th>\n",
       "      <th>NrSiblings</th>\n",
       "      <th>MathScore</th>\n",
       "      <th>ReadingScore</th>\n",
       "      <th>WritingScore</th>\n",
       "    </tr>\n",
       "  </thead>\n",
       "  <tbody>\n",
       "    <tr>\n",
       "      <th>count</th>\n",
       "      <td>30641.000000</td>\n",
       "      <td>29069.000000</td>\n",
       "      <td>30641.000000</td>\n",
       "      <td>30641.000000</td>\n",
       "      <td>30641.000000</td>\n",
       "    </tr>\n",
       "    <tr>\n",
       "      <th>mean</th>\n",
       "      <td>499.556607</td>\n",
       "      <td>2.145894</td>\n",
       "      <td>66.558402</td>\n",
       "      <td>69.377533</td>\n",
       "      <td>68.418622</td>\n",
       "    </tr>\n",
       "    <tr>\n",
       "      <th>std</th>\n",
       "      <td>288.747894</td>\n",
       "      <td>1.458242</td>\n",
       "      <td>15.361616</td>\n",
       "      <td>14.758952</td>\n",
       "      <td>15.443525</td>\n",
       "    </tr>\n",
       "    <tr>\n",
       "      <th>min</th>\n",
       "      <td>0.000000</td>\n",
       "      <td>0.000000</td>\n",
       "      <td>0.000000</td>\n",
       "      <td>10.000000</td>\n",
       "      <td>4.000000</td>\n",
       "    </tr>\n",
       "    <tr>\n",
       "      <th>25%</th>\n",
       "      <td>249.000000</td>\n",
       "      <td>1.000000</td>\n",
       "      <td>56.000000</td>\n",
       "      <td>59.000000</td>\n",
       "      <td>58.000000</td>\n",
       "    </tr>\n",
       "    <tr>\n",
       "      <th>50%</th>\n",
       "      <td>500.000000</td>\n",
       "      <td>2.000000</td>\n",
       "      <td>67.000000</td>\n",
       "      <td>70.000000</td>\n",
       "      <td>69.000000</td>\n",
       "    </tr>\n",
       "    <tr>\n",
       "      <th>75%</th>\n",
       "      <td>750.000000</td>\n",
       "      <td>3.000000</td>\n",
       "      <td>78.000000</td>\n",
       "      <td>80.000000</td>\n",
       "      <td>79.000000</td>\n",
       "    </tr>\n",
       "    <tr>\n",
       "      <th>max</th>\n",
       "      <td>999.000000</td>\n",
       "      <td>7.000000</td>\n",
       "      <td>100.000000</td>\n",
       "      <td>100.000000</td>\n",
       "      <td>100.000000</td>\n",
       "    </tr>\n",
       "  </tbody>\n",
       "</table>\n",
       "</div>"
      ],
      "text/plain": [
       "                  c    NrSiblings     MathScore  ReadingScore  WritingScore\n",
       "count  30641.000000  29069.000000  30641.000000  30641.000000  30641.000000\n",
       "mean     499.556607      2.145894     66.558402     69.377533     68.418622\n",
       "std      288.747894      1.458242     15.361616     14.758952     15.443525\n",
       "min        0.000000      0.000000      0.000000     10.000000      4.000000\n",
       "25%      249.000000      1.000000     56.000000     59.000000     58.000000\n",
       "50%      500.000000      2.000000     67.000000     70.000000     69.000000\n",
       "75%      750.000000      3.000000     78.000000     80.000000     79.000000\n",
       "max      999.000000      7.000000    100.000000    100.000000    100.000000"
      ]
     },
     "execution_count": 9,
     "metadata": {},
     "output_type": "execute_result"
    }
   ],
   "source": [
    "df.describe()  #with this we can get all numeric data info from dataset"
   ]
  },
  {
   "cell_type": "code",
   "execution_count": 10,
   "id": "9d3259e0",
   "metadata": {},
   "outputs": [
    {
     "name": "stdout",
     "output_type": "stream",
     "text": [
      "<class 'pandas.core.frame.DataFrame'>\n",
      "RangeIndex: 30641 entries, 0 to 30640\n",
      "Data columns (total 15 columns):\n",
      " #   Column               Non-Null Count  Dtype  \n",
      "---  ------               --------------  -----  \n",
      " 0   c                    30641 non-null  int64  \n",
      " 1   Gender               30641 non-null  object \n",
      " 2   EthnicGroup          28801 non-null  object \n",
      " 3   ParentEduc           28796 non-null  object \n",
      " 4   LunchType            30641 non-null  object \n",
      " 5   TestPrep             28811 non-null  object \n",
      " 6   ParentMaritalStatus  29451 non-null  object \n",
      " 7   PracticeSport        30010 non-null  object \n",
      " 8   IsFirstChild         29737 non-null  object \n",
      " 9   NrSiblings           29069 non-null  float64\n",
      " 10  TransportMeans       27507 non-null  object \n",
      " 11  WklyStudyHours       29686 non-null  object \n",
      " 12  MathScore            30641 non-null  int64  \n",
      " 13  ReadingScore         30641 non-null  int64  \n",
      " 14  WritingScore         30641 non-null  int64  \n",
      "dtypes: float64(1), int64(4), object(10)\n",
      "memory usage: 3.5+ MB\n"
     ]
    }
   ],
   "source": [
    "df.info()   #what data types do we have in columns"
   ]
  },
  {
   "cell_type": "code",
   "execution_count": 11,
   "id": "26f76a19",
   "metadata": {},
   "outputs": [
    {
     "data": {
      "text/plain": [
       "c                         0\n",
       "Gender                    0\n",
       "EthnicGroup            1840\n",
       "ParentEduc             1845\n",
       "LunchType                 0\n",
       "TestPrep               1830\n",
       "ParentMaritalStatus    1190\n",
       "PracticeSport           631\n",
       "IsFirstChild            904\n",
       "NrSiblings             1572\n",
       "TransportMeans         3134\n",
       "WklyStudyHours          955\n",
       "MathScore                 0\n",
       "ReadingScore              0\n",
       "WritingScore              0\n",
       "dtype: int64"
      ]
     },
     "execution_count": 11,
     "metadata": {},
     "output_type": "execute_result"
    }
   ],
   "source": [
    "df.isnull().sum()   #get the count of all null values in data"
   ]
  },
  {
   "cell_type": "code",
   "execution_count": 12,
   "id": "128dafeb",
   "metadata": {},
   "outputs": [],
   "source": [
    "#first we will clean our data and for that we will remove unnamed column that is \"c\" here and we weill define axis also here\n",
    "# axis=1 means column "
   ]
  },
  {
   "cell_type": "code",
   "execution_count": 13,
   "id": "4b69cb82",
   "metadata": {},
   "outputs": [
    {
     "name": "stdout",
     "output_type": "stream",
     "text": [
      "   Gender EthnicGroup          ParentEduc     LunchType TestPrep  \\\n",
      "0  female         NaN   bachelor's degree      standard     none   \n",
      "1  female     group C        some college      standard      NaN   \n",
      "2  female     group B     master's degree      standard     none   \n",
      "3    male     group A  associate's degree  free/reduced     none   \n",
      "4    male     group C        some college      standard     none   \n",
      "\n",
      "  ParentMaritalStatus PracticeSport IsFirstChild  NrSiblings TransportMeans  \\\n",
      "0             married     regularly          yes         3.0     school_bus   \n",
      "1             married     sometimes          yes         0.0            NaN   \n",
      "2              single     sometimes          yes         4.0     school_bus   \n",
      "3             married         never           no         1.0            NaN   \n",
      "4             married     sometimes          yes         0.0     school_bus   \n",
      "\n",
      "  WklyStudyHours  MathScore  ReadingScore  WritingScore  \n",
      "0            < 5         71            71            74  \n",
      "1         10-May         69            90            88  \n",
      "2            < 5         87            93            91  \n",
      "3         10-May         45            56            42  \n",
      "4         10-May         76            78            75  \n"
     ]
    }
   ],
   "source": [
    "df=df.drop(\"c\",axis=1)\n",
    "print(df.head())"
   ]
  },
  {
   "cell_type": "code",
   "execution_count": 14,
   "id": "0f0506c1",
   "metadata": {},
   "outputs": [],
   "source": [
    "#data transformation- we will make changes in WklyStudyHours column with replace function "
   ]
  },
  {
   "cell_type": "code",
   "execution_count": 15,
   "id": "5b24e7c2",
   "metadata": {},
   "outputs": [
    {
     "name": "stdout",
     "output_type": "stream",
     "text": [
      "   Gender EthnicGroup          ParentEduc     LunchType TestPrep  \\\n",
      "0  female         NaN   bachelor's degree      standard     none   \n",
      "1  female     group C        some college      standard      NaN   \n",
      "2  female     group B     master's degree      standard     none   \n",
      "3    male     group A  associate's degree  free/reduced     none   \n",
      "4    male     group C        some college      standard     none   \n",
      "\n",
      "  ParentMaritalStatus PracticeSport IsFirstChild  NrSiblings TransportMeans  \\\n",
      "0             married     regularly          yes         3.0     school_bus   \n",
      "1             married     sometimes          yes         0.0            NaN   \n",
      "2              single     sometimes          yes         4.0     school_bus   \n",
      "3             married         never           no         1.0            NaN   \n",
      "4             married     sometimes          yes         0.0     school_bus   \n",
      "\n",
      "  WklyStudyHours  MathScore  ReadingScore  WritingScore  \n",
      "0            < 5         71            71            74  \n",
      "1           5-10         69            90            88  \n",
      "2            < 5         87            93            91  \n",
      "3           5-10         45            56            42  \n",
      "4           5-10         76            78            75  \n"
     ]
    }
   ],
   "source": [
    "df[\"WklyStudyHours\"]= df[\"WklyStudyHours\"].str.replace(\"10-May\", \"5-10\")\n",
    "print(df.head())"
   ]
  },
  {
   "cell_type": "markdown",
   "id": "1ad8df06",
   "metadata": {},
   "source": [
    "# Gender Distribution- Countplot from seaborn"
   ]
  },
  {
   "cell_type": "code",
   "execution_count": 16,
   "id": "abc31b11",
   "metadata": {},
   "outputs": [],
   "source": [
    "#to show gender distribution we will use count plot from seaborn package as it automatically gives us value by counting them\n",
    "#to customize the countplot we can figure size function i.e,plt.figure(figsize=(width,height)) \n",
    "#to get lables on your graph first we will store our count plot graph in ax then we will use label function to get exact count\n",
    "#of the number of male and female"
   ]
  },
  {
   "cell_type": "code",
   "execution_count": 17,
   "id": "1310891e",
   "metadata": {},
   "outputs": [
    {
     "data": {
      "image/png": "[encoded data removed]",
      "text/plain": [
       "<Figure size 640x480 with 1 Axes>"
      ]
     },
     "metadata": {},
     "output_type": "display_data"
    },
    {
     "data": {
      "text/plain": [
       "<Figure size 300x400 with 0 Axes>"
      ]
     },
     "metadata": {},
     "output_type": "display_data"
    }
   ],
   "source": [
    "plt.title(\"Gender Distribution\")\n",
    "ax= sns.countplot(data=df, x= \"Gender\")\n",
    "plt.figure(figsize=(3,4))\n",
    "ax.bar_label(ax.containers[0])\n",
    "plt.show()"
   ]
  },
  {
   "cell_type": "code",
   "execution_count": 18,
   "id": "07237531",
   "metadata": {},
   "outputs": [],
   "source": [
    "#from the above countplot chart we can analysis that count of female>count of male in our dataset."
   ]
  },
  {
   "cell_type": "markdown",
   "id": "fedc4716",
   "metadata": {},
   "source": [
    "# The impact of parents education & marital status on the different scores of students- Heatmap from Seaborn"
   ]
  },
  {
   "cell_type": "code",
   "execution_count": 19,
   "id": "1a4323e3",
   "metadata": {},
   "outputs": [],
   "source": [
    "#so to get the analysis on the impact of parent education on the different scores of students we will first group by our data \n",
    "#to get that specific data from this large dataset. we will create variable name gb"
   ]
  },
  {
   "cell_type": "code",
   "execution_count": 20,
   "id": "e14de4a8",
   "metadata": {},
   "outputs": [
    {
     "name": "stdout",
     "output_type": "stream",
     "text": [
      "                    MathScore  ReadingScore  WritingScore\n",
      "ParentEduc                                               \n",
      "associate's degree  68.365586     71.124324     70.299099\n",
      "bachelor's degree   70.466627     73.062020     73.331069\n",
      "high school         64.435731     67.213997     65.421136\n",
      "master's degree     72.336134     75.832921     76.356896\n",
      "some college        66.390472     69.179708     68.501432\n",
      "some high school    62.584013     65.510785     63.632409\n"
     ]
    }
   ],
   "source": [
    "gb= df.groupby(\"ParentEduc\").agg({\"MathScore\":'mean', \"ReadingScore\":'mean', \"WritingScore\":'mean'})\n",
    "print(gb)\n",
    "    "
   ]
  },
  {
   "cell_type": "code",
   "execution_count": 21,
   "id": "d1fb2f75",
   "metadata": {},
   "outputs": [],
   "source": [
    "#as i can see that in my data i have string values as well as numeric values so the best way to plot such kind of data is \n",
    "#heatmaps."
   ]
  },
  {
   "cell_type": "code",
   "execution_count": 22,
   "id": "801e82ac",
   "metadata": {},
   "outputs": [
    {
     "data": {
      "image/png": "[encoded data removed]",
      "text/plain": [
       "<Figure size 640x480 with 2 Axes>"
      ]
     },
     "metadata": {},
     "output_type": "display_data"
    },
    {
     "data": {
      "text/plain": [
       "<Figure size 300x400 with 0 Axes>"
      ]
     },
     "metadata": {},
     "output_type": "display_data"
    }
   ],
   "source": [
    "plt.title(\"Parent's Education Impact on Students Marks\")\n",
    "sns.heatmap(gb, annot=True)\n",
    "plt.figure(figsize=(3,4))\n",
    "plt.show()"
   ]
  },
  {
   "cell_type": "code",
   "execution_count": 23,
   "id": "66275e8e",
   "metadata": {},
   "outputs": [],
   "source": [
    "#here this annot function gives us the numbers in each cell"
   ]
  },
  {
   "cell_type": "code",
   "execution_count": 24,
   "id": "e4fd9ba5",
   "metadata": {},
   "outputs": [],
   "source": [
    "#hence we can see that parent's education have high impact on student's marks high education=high marks and low education= low\n",
    "#marks"
   ]
  },
  {
   "cell_type": "code",
   "execution_count": 25,
   "id": "ee99deea",
   "metadata": {},
   "outputs": [],
   "source": [
    "#let's see another example of the same impact of parent's marital status on students marks"
   ]
  },
  {
   "cell_type": "code",
   "execution_count": 26,
   "id": "5857cce2",
   "metadata": {},
   "outputs": [
    {
     "name": "stdout",
     "output_type": "stream",
     "text": [
      "                     MathScore  ReadingScore  WritingScore\n",
      "ParentMaritalStatus                                       \n",
      "divorced             66.691197     69.655011     68.799146\n",
      "married              66.657326     69.389575     68.420981\n",
      "single               66.165704     69.157250     68.174440\n",
      "widowed              67.368866     69.651438     68.563452\n"
     ]
    }
   ],
   "source": [
    "gb1= df.groupby(\"ParentMaritalStatus\").agg({\"MathScore\":'mean', \"ReadingScore\":'mean', \"WritingScore\":'mean'})\n",
    "print(gb1)"
   ]
  },
  {
   "cell_type": "code",
   "execution_count": 27,
   "id": "49d8e6ff",
   "metadata": {},
   "outputs": [
    {
     "data": {
      "image/png": "[encoded data removed]",
      "text/plain": [
       "<Figure size 640x480 with 2 Axes>"
      ]
     },
     "metadata": {},
     "output_type": "display_data"
    },
    {
     "data": {
      "text/plain": [
       "<Figure size 300x400 with 0 Axes>"
      ]
     },
     "metadata": {},
     "output_type": "display_data"
    }
   ],
   "source": [
    "plt.title(\"Impact of Parent's Marital Status on Students Marks\")\n",
    "sns.heatmap(gb1, annot=True)\n",
    "plt.figure(figsize=(3,4))\n",
    "plt.show()"
   ]
  },
  {
   "cell_type": "code",
   "execution_count": 28,
   "id": "8ca40d8f",
   "metadata": {},
   "outputs": [],
   "source": [
    "#hence we can see that parent's marital status have minor/negligible impact on student's marks  "
   ]
  },
  {
   "cell_type": "code",
   "execution_count": 29,
   "id": "27fb34c4",
   "metadata": {},
   "outputs": [
    {
     "data": {
      "text/plain": [
       "Index(['Gender', 'EthnicGroup', 'ParentEduc', 'LunchType', 'TestPrep',\n",
       "       'ParentMaritalStatus', 'PracticeSport', 'IsFirstChild', 'NrSiblings',\n",
       "       'TransportMeans', 'WklyStudyHours', 'MathScore', 'ReadingScore',\n",
       "       'WritingScore'],\n",
       "      dtype='object')"
      ]
     },
     "execution_count": 29,
     "metadata": {},
     "output_type": "execute_result"
    }
   ],
   "source": [
    "df.columns   #this function is used to check the all columns in data"
   ]
  },
  {
   "cell_type": "code",
   "execution_count": 30,
   "id": "6c646345",
   "metadata": {},
   "outputs": [
    {
     "name": "stdout",
     "output_type": "stream",
     "text": [
      "<class 'pandas.core.frame.DataFrame'>\n",
      "RangeIndex: 30641 entries, 0 to 30640\n",
      "Data columns (total 14 columns):\n",
      " #   Column               Non-Null Count  Dtype  \n",
      "---  ------               --------------  -----  \n",
      " 0   Gender               30641 non-null  object \n",
      " 1   EthnicGroup          28801 non-null  object \n",
      " 2   ParentEduc           28796 non-null  object \n",
      " 3   LunchType            30641 non-null  object \n",
      " 4   TestPrep             28811 non-null  object \n",
      " 5   ParentMaritalStatus  29451 non-null  object \n",
      " 6   PracticeSport        30010 non-null  object \n",
      " 7   IsFirstChild         29737 non-null  object \n",
      " 8   NrSiblings           29069 non-null  float64\n",
      " 9   TransportMeans       27507 non-null  object \n",
      " 10  WklyStudyHours       29686 non-null  object \n",
      " 11  MathScore            30641 non-null  int64  \n",
      " 12  ReadingScore         30641 non-null  int64  \n",
      " 13  WritingScore         30641 non-null  int64  \n",
      "dtypes: float64(1), int64(3), object(10)\n",
      "memory usage: 3.3+ MB\n"
     ]
    }
   ],
   "source": [
    "df.info()"
   ]
  },
  {
   "cell_type": "markdown",
   "id": "4a06fff9",
   "metadata": {},
   "source": [
    "# Boxplot- to find outliers(student's exam scores)"
   ]
  },
  {
   "cell_type": "code",
   "execution_count": 31,
   "id": "ecf45090",
   "metadata": {},
   "outputs": [],
   "source": [
    "#now let's create boxplot to check the outliers\n",
    "#box plots are used to understand outliers[extreme values 0r different from the rest value or out of range] in your dataset\n",
    "#outliers- also higher than maximum and lower than minimum"
   ]
  },
  {
   "cell_type": "code",
   "execution_count": 32,
   "id": "f972992b",
   "metadata": {},
   "outputs": [
    {
     "data": {
      "image/png": "[encoded data removed]",
      "text/plain": [
       "<Figure size 640x480 with 1 Axes>"
      ]
     },
     "metadata": {},
     "output_type": "display_data"
    }
   ],
   "source": [
    "plt.boxplot(data=df, x=\"MathScore\")\n",
    "plt.show()"
   ]
  },
  {
   "cell_type": "code",
   "execution_count": 33,
   "id": "8e604587",
   "metadata": {},
   "outputs": [],
   "source": [
    "#this data have too many outliers(these small circles below)"
   ]
  },
  {
   "cell_type": "code",
   "execution_count": 34,
   "id": "68217042",
   "metadata": {},
   "outputs": [
    {
     "data": {
      "image/png": "[encoded data removed]",
      "text/plain": [
       "<Figure size 640x480 with 1 Axes>"
      ]
     },
     "metadata": {},
     "output_type": "display_data"
    }
   ],
   "source": [
    "plt.boxplot(data=df, x=\"ReadingScore\")\n",
    "plt.show()"
   ]
  },
  {
   "cell_type": "code",
   "execution_count": 35,
   "id": "06aed65e",
   "metadata": {},
   "outputs": [],
   "source": [
    "#this data have too many outliers(these small circles below)"
   ]
  },
  {
   "cell_type": "code",
   "execution_count": 36,
   "id": "f0aadd69",
   "metadata": {},
   "outputs": [
    {
     "data": {
      "image/png": "[encoded data removed]",
      "text/plain": [
       "<Figure size 640x480 with 1 Axes>"
      ]
     },
     "metadata": {},
     "output_type": "display_data"
    }
   ],
   "source": [
    "plt.boxplot(data=df, x=\"WritingScore\")\n",
    "plt.show()"
   ]
  },
  {
   "cell_type": "code",
   "execution_count": 37,
   "id": "ddd353ce",
   "metadata": {},
   "outputs": [],
   "source": [
    "#this data have too many outliers(these small circles below). hence we conclude that maths is comparatively hard subject."
   ]
  },
  {
   "cell_type": "markdown",
   "id": "da6af44e",
   "metadata": {},
   "source": [
    "# Ethnic Group Distribution(%)- Pie Chart"
   ]
  },
  {
   "cell_type": "code",
   "execution_count": 38,
   "id": "f1c7a59a",
   "metadata": {},
   "outputs": [],
   "source": [
    "#here same as we have done gender distribution we will do ethnic group distribution and for that firstly we will find all the\n",
    "#unique vales in ethnic group"
   ]
  },
  {
   "cell_type": "code",
   "execution_count": 39,
   "id": "9e547700",
   "metadata": {},
   "outputs": [
    {
     "name": "stdout",
     "output_type": "stream",
     "text": [
      "[nan 'group C' 'group B' 'group A' 'group D' 'group E']\n"
     ]
    }
   ],
   "source": [
    "print(df[\"EthnicGroup\"].unique())   "
   ]
  },
  {
   "cell_type": "code",
   "execution_count": 40,
   "id": "e9694cf8",
   "metadata": {},
   "outputs": [],
   "source": [
    "#to find distribution first we need to find the count of each group under \"ethnic group\"\n",
    "#for that we will use loc( funtion from pandas)"
   ]
  },
  {
   "cell_type": "code",
   "execution_count": 41,
   "id": "6e7ff7bb",
   "metadata": {},
   "outputs": [],
   "source": [
    "groupA= df.loc[(df['EthnicGroup']==\"group A\")].count()\n",
    "groupB= df.loc[(df['EthnicGroup']==\"group B\")].count()\n",
    "groupC= df.loc[(df['EthnicGroup']==\"group C\")].count()\n",
    "groupD= df.loc[(df['EthnicGroup']==\"group D\")].count()\n",
    "groupE= df.loc[(df['EthnicGroup']==\"group E\")].count()\n",
    " "
   ]
  },
  {
   "cell_type": "code",
   "execution_count": 42,
   "id": "81eadd5d",
   "metadata": {},
   "outputs": [
    {
     "name": "stdout",
     "output_type": "stream",
     "text": [
      "[2219, 5826, 9212, 7503, 4041]\n"
     ]
    }
   ],
   "source": [
    "Ethnicgrouplist= [groupA['EthnicGroup'], groupB['EthnicGroup'], groupC['EthnicGroup'], groupD['EthnicGroup'], groupE['EthnicGroup']]\n",
    "print(Ethnicgrouplist)"
   ]
  },
  {
   "cell_type": "code",
   "execution_count": 43,
   "id": "8a06f955",
   "metadata": {},
   "outputs": [],
   "source": [
    "#here we have created a list of groups with the count of ethnicgroup."
   ]
  },
  {
   "cell_type": "code",
   "execution_count": 44,
   "id": "252a7a54",
   "metadata": {},
   "outputs": [],
   "source": [
    "#now we will create a pie chart of groups in ['EthnicGroup']\n",
    "#autopct=\"%1.2f%%  we use this function to see our distribution in percentage form.\n",
    "#also to give this pie chart lables we will add a list here with tha name of groups "
   ]
  },
  {
   "cell_type": "code",
   "execution_count": 45,
   "id": "acbc6f02",
   "metadata": {},
   "outputs": [
    {
     "data": {
      "image/png": "[encoded data removed]",
      "text/plain": [
       "<Figure size 640x480 with 1 Axes>"
      ]
     },
     "metadata": {},
     "output_type": "display_data"
    }
   ],
   "source": [
    "l=['group A', 'group B','group C','group D','group E']\n",
    "plt.title(\"Distribution of Ethnic Groups (%)\")\n",
    "plt.pie(Ethnicgrouplist, labels=l, autopct=\"%1.2f%%\")\n",
    "plt.show()"
   ]
  },
  {
   "cell_type": "code",
   "execution_count": 46,
   "id": "40b5ab55",
   "metadata": {},
   "outputs": [
    {
     "name": "stdout",
     "output_type": "stream",
     "text": [
      "<class 'pandas.core.frame.DataFrame'>\n",
      "RangeIndex: 30641 entries, 0 to 30640\n",
      "Data columns (total 14 columns):\n",
      " #   Column               Non-Null Count  Dtype  \n",
      "---  ------               --------------  -----  \n",
      " 0   Gender               30641 non-null  object \n",
      " 1   EthnicGroup          28801 non-null  object \n",
      " 2   ParentEduc           28796 non-null  object \n",
      " 3   LunchType            30641 non-null  object \n",
      " 4   TestPrep             28811 non-null  object \n",
      " 5   ParentMaritalStatus  29451 non-null  object \n",
      " 6   PracticeSport        30010 non-null  object \n",
      " 7   IsFirstChild         29737 non-null  object \n",
      " 8   NrSiblings           29069 non-null  float64\n",
      " 9   TransportMeans       27507 non-null  object \n",
      " 10  WklyStudyHours       29686 non-null  object \n",
      " 11  MathScore            30641 non-null  int64  \n",
      " 12  ReadingScore         30641 non-null  int64  \n",
      " 13  WritingScore         30641 non-null  int64  \n",
      "dtypes: float64(1), int64(3), object(10)\n",
      "memory usage: 3.3+ MB\n"
     ]
    }
   ],
   "source": [
    "df.info()"
   ]
  },
  {
   "cell_type": "code",
   "execution_count": 47,
   "id": "39442cfb",
   "metadata": {},
   "outputs": [],
   "source": [
    "#now we will check if our data has any null values"
   ]
  },
  {
   "cell_type": "code",
   "execution_count": 48,
   "id": "702c48a9",
   "metadata": {},
   "outputs": [
    {
     "name": "stdout",
     "output_type": "stream",
     "text": [
      "Gender                    0\n",
      "EthnicGroup            1840\n",
      "ParentEduc             1845\n",
      "LunchType                 0\n",
      "TestPrep               1830\n",
      "ParentMaritalStatus    1190\n",
      "PracticeSport           631\n",
      "IsFirstChild            904\n",
      "NrSiblings             1572\n",
      "TransportMeans         3134\n",
      "WklyStudyHours          955\n",
      "MathScore                 0\n",
      "ReadingScore              0\n",
      "WritingScore              0\n",
      "dtype: int64\n"
     ]
    }
   ],
   "source": [
    "null_values = df.isnull().sum()\n",
    "print(null_values)"
   ]
  },
  {
   "cell_type": "code",
   "execution_count": null,
   "id": "1acffa7a",
   "metadata": {},
   "outputs": [],
   "source": []
  },
  {
   "cell_type": "code",
   "execution_count": null,
   "id": "845d632d",
   "metadata": {},
   "outputs": [],
   "source": []
  }
 ],
 "metadata": {
  "kernelspec": {
   "display_name": "Python 3 (ipykernel)",
   "language": "python",
   "name": "python3"
  },
  "language_info": {
   "codemirror_mode": {
    "name": "ipython",
    "version": 3
   },
   "file_extension": ".py",
   "mimetype": "text/x-python",
   "name": "python",
   "nbconvert_exporter": "python",
   "pygments_lexer": "ipython3",
   "version": "3.11.5"
  }
 },
 "nbformat": 4,
 "nbformat_minor": 5
}
